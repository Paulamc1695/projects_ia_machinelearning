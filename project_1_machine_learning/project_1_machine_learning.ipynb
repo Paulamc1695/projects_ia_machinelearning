{
 "cells": [
  {
   "cell_type": "code",
   "execution_count": null,
   "metadata": {},
   "outputs": [],
   "source": [
    "import seaborn as sns\n",
    "import matplotlib.pyplot as plt\n",
    "import pandas as pd\n",
    "from sklearn.datasets import load_breast_cancer\n",
    "from sklearn.model_selection import train_test_split\n",
    "from sklearn.datasets import fetch_covtype\n",
    "from sklearn.linear_model import LinearRegression, LogisticRegression\n",
    "from sklearn.metrics import confusion_matrix, ConfusionMatrixDisplay\n",
    "from sklearn.neighbors import KNeighborsClassifier\n",
    "from sklearn.metrics import accuracy_score, precision_score, recall_score, f1_score\n",
    "from sklearn.ensemble import RandomForestClassifier\n",
    "\n",
    "# Visualización completa de los DataFrames\n",
    "\n",
    "pd.set_option('display.max_columns', None)\n",
    "pd.set_option('display.max_rows', None)\n",
    "pd.set_option('display.max_colwidth', None) \n",
    "pd.set_option('display.width', 400)"
   ]
  },
  {
   "cell_type": "markdown",
   "metadata": {},
   "source": [
    "## Ejercicio 1\n",
    "Imprime por pantalla tu nombre, apellido y email"
   ]
  },
  {
   "cell_type": "code",
   "execution_count": 3,
   "metadata": {},
   "outputs": [
    {
     "name": "stdout",
     "output_type": "stream",
     "text": [
      "Nombre completo: Paula Martínez Cantero\n",
      "Email: paula.mtnezcantero@gmail.com\n"
     ]
    }
   ],
   "source": [
    "# Resuelve en esta celda el ejercicio 1\n",
    "\n",
    "datos_personales = \"Nombre completo: Paula Martínez Cantero\\nEmail: paula.mtnezcantero@gmail.com\"\n",
    "print(datos_personales)"
   ]
  },
  {
   "cell_type": "markdown",
   "metadata": {},
   "source": [
    "## Ejercicio 2"
   ]
  },
  {
   "cell_type": "markdown",
   "metadata": {},
   "source": [
    "### Ejercicio 2.1\n",
    "Muestra los primeros registros del siguiente conjunto de datos"
   ]
  },
  {
   "cell_type": "code",
   "execution_count": 4,
   "metadata": {},
   "outputs": [
    {
     "data": {
      "text/html": [
       "<div>\n",
       "<style scoped>\n",
       "    .dataframe tbody tr th:only-of-type {\n",
       "        vertical-align: middle;\n",
       "    }\n",
       "\n",
       "    .dataframe tbody tr th {\n",
       "        vertical-align: top;\n",
       "    }\n",
       "\n",
       "    .dataframe thead th {\n",
       "        text-align: right;\n",
       "    }\n",
       "</style>\n",
       "<table border=\"1\" class=\"dataframe\">\n",
       "  <thead>\n",
       "    <tr style=\"text-align: right;\">\n",
       "      <th></th>\n",
       "      <th>survived</th>\n",
       "      <th>pclass</th>\n",
       "      <th>sex</th>\n",
       "      <th>age</th>\n",
       "      <th>sibsp</th>\n",
       "      <th>parch</th>\n",
       "      <th>fare</th>\n",
       "      <th>embarked</th>\n",
       "      <th>class</th>\n",
       "      <th>who</th>\n",
       "      <th>adult_male</th>\n",
       "      <th>deck</th>\n",
       "      <th>embark_town</th>\n",
       "      <th>alive</th>\n",
       "      <th>alone</th>\n",
       "    </tr>\n",
       "  </thead>\n",
       "  <tbody>\n",
       "    <tr>\n",
       "      <th>0</th>\n",
       "      <td>0</td>\n",
       "      <td>3</td>\n",
       "      <td>male</td>\n",
       "      <td>22.0</td>\n",
       "      <td>1</td>\n",
       "      <td>0</td>\n",
       "      <td>7.2500</td>\n",
       "      <td>S</td>\n",
       "      <td>Third</td>\n",
       "      <td>man</td>\n",
       "      <td>True</td>\n",
       "      <td>NaN</td>\n",
       "      <td>Southampton</td>\n",
       "      <td>no</td>\n",
       "      <td>False</td>\n",
       "    </tr>\n",
       "    <tr>\n",
       "      <th>1</th>\n",
       "      <td>1</td>\n",
       "      <td>1</td>\n",
       "      <td>female</td>\n",
       "      <td>38.0</td>\n",
       "      <td>1</td>\n",
       "      <td>0</td>\n",
       "      <td>71.2833</td>\n",
       "      <td>C</td>\n",
       "      <td>First</td>\n",
       "      <td>woman</td>\n",
       "      <td>False</td>\n",
       "      <td>C</td>\n",
       "      <td>Cherbourg</td>\n",
       "      <td>yes</td>\n",
       "      <td>False</td>\n",
       "    </tr>\n",
       "    <tr>\n",
       "      <th>2</th>\n",
       "      <td>1</td>\n",
       "      <td>3</td>\n",
       "      <td>female</td>\n",
       "      <td>26.0</td>\n",
       "      <td>0</td>\n",
       "      <td>0</td>\n",
       "      <td>7.9250</td>\n",
       "      <td>S</td>\n",
       "      <td>Third</td>\n",
       "      <td>woman</td>\n",
       "      <td>False</td>\n",
       "      <td>NaN</td>\n",
       "      <td>Southampton</td>\n",
       "      <td>yes</td>\n",
       "      <td>True</td>\n",
       "    </tr>\n",
       "    <tr>\n",
       "      <th>3</th>\n",
       "      <td>1</td>\n",
       "      <td>1</td>\n",
       "      <td>female</td>\n",
       "      <td>35.0</td>\n",
       "      <td>1</td>\n",
       "      <td>0</td>\n",
       "      <td>53.1000</td>\n",
       "      <td>S</td>\n",
       "      <td>First</td>\n",
       "      <td>woman</td>\n",
       "      <td>False</td>\n",
       "      <td>C</td>\n",
       "      <td>Southampton</td>\n",
       "      <td>yes</td>\n",
       "      <td>False</td>\n",
       "    </tr>\n",
       "    <tr>\n",
       "      <th>4</th>\n",
       "      <td>0</td>\n",
       "      <td>3</td>\n",
       "      <td>male</td>\n",
       "      <td>35.0</td>\n",
       "      <td>0</td>\n",
       "      <td>0</td>\n",
       "      <td>8.0500</td>\n",
       "      <td>S</td>\n",
       "      <td>Third</td>\n",
       "      <td>man</td>\n",
       "      <td>True</td>\n",
       "      <td>NaN</td>\n",
       "      <td>Southampton</td>\n",
       "      <td>no</td>\n",
       "      <td>True</td>\n",
       "    </tr>\n",
       "  </tbody>\n",
       "</table>\n",
       "</div>"
      ],
      "text/plain": [
       "   survived  pclass     sex   age  sibsp  parch     fare embarked  class    who  adult_male deck  embark_town alive  alone\n",
       "0         0       3    male  22.0      1      0   7.2500        S  Third    man        True  NaN  Southampton    no  False\n",
       "1         1       1  female  38.0      1      0  71.2833        C  First  woman       False    C    Cherbourg   yes  False\n",
       "2         1       3  female  26.0      0      0   7.9250        S  Third  woman       False  NaN  Southampton   yes   True\n",
       "3         1       1  female  35.0      1      0  53.1000        S  First  woman       False    C  Southampton   yes  False\n",
       "4         0       3    male  35.0      0      0   8.0500        S  Third    man        True  NaN  Southampton    no   True"
      ]
     },
     "execution_count": 4,
     "metadata": {},
     "output_type": "execute_result"
    }
   ],
   "source": [
    "# Cargar el dataset \"titanic\" de seaborn\n",
    "df_dos = sns.load_dataset(\"titanic\")\n",
    "\n",
    "# Resolver aqui el ejercicio 2.1\n",
    "df_dos.head()"
   ]
  },
  {
   "cell_type": "markdown",
   "metadata": {},
   "source": [
    "### Ejercicio 2.2\n",
    "Muestra una descripción general del conjunto de datos cargado en el ejercicio 2.1"
   ]
  },
  {
   "cell_type": "code",
   "execution_count": 5,
   "metadata": {},
   "outputs": [
    {
     "name": "stdout",
     "output_type": "stream",
     "text": [
      "Información general del dataset:\n",
      "<class 'pandas.core.frame.DataFrame'>\n",
      "RangeIndex: 891 entries, 0 to 890\n",
      "Data columns (total 15 columns):\n",
      " #   Column       Non-Null Count  Dtype   \n",
      "---  ------       --------------  -----   \n",
      " 0   survived     891 non-null    int64   \n",
      " 1   pclass       891 non-null    int64   \n",
      " 2   sex          891 non-null    object  \n",
      " 3   age          714 non-null    float64 \n",
      " 4   sibsp        891 non-null    int64   \n",
      " 5   parch        891 non-null    int64   \n",
      " 6   fare         891 non-null    float64 \n",
      " 7   embarked     889 non-null    object  \n",
      " 8   class        891 non-null    category\n",
      " 9   who          891 non-null    object  \n",
      " 10  adult_male   891 non-null    bool    \n",
      " 11  deck         203 non-null    category\n",
      " 12  embark_town  889 non-null    object  \n",
      " 13  alive        891 non-null    object  \n",
      " 14  alone        891 non-null    bool    \n",
      "dtypes: bool(2), category(2), float64(2), int64(4), object(5)\n",
      "memory usage: 80.7+ KB\n",
      "\n",
      "\n",
      "-----------------------------------------------------------------------\n",
      "\n",
      "\n",
      "Resumen estadístico de las columnas con datos de tipo numérico:\n",
      "         survived      pclass         age       sibsp       parch        fare\n",
      "count  891.000000  891.000000  714.000000  891.000000  891.000000  891.000000\n",
      "mean     0.383838    2.308642   29.699118    0.523008    0.381594   32.204208\n",
      "std      0.486592    0.836071   14.526497    1.102743    0.806057   49.693429\n",
      "min      0.000000    1.000000    0.420000    0.000000    0.000000    0.000000\n",
      "25%      0.000000    2.000000   20.125000    0.000000    0.000000    7.910400\n",
      "50%      0.000000    3.000000   28.000000    0.000000    0.000000   14.454200\n",
      "75%      1.000000    3.000000   38.000000    1.000000    0.000000   31.000000\n",
      "max      1.000000    3.000000   80.000000    8.000000    6.000000  512.329200\n"
     ]
    }
   ],
   "source": [
    "# Resuelve aqui el ejercicio 2.2\n",
    "\n",
    "print(\"Información general del dataset:\")\n",
    "df_dos.info()\n",
    "\n",
    "print(\"\\n\")\n",
    "print(\"-----------------------------------------------------------------------\")\n",
    "print(\"\\n\")\n",
    "\n",
    "print(\"Resumen estadístico de las columnas con datos de tipo numérico:\")\n",
    "print(df_dos.describe())"
   ]
  },
  {
   "cell_type": "markdown",
   "metadata": {},
   "source": [
    "### Ejercicio 2.3\n",
    "Elimina los datos de la columna \"deck\" y sustituye los datos nulos para la columna \"age\" con el valor medio. Luego muestra el dataframe:"
   ]
  },
  {
   "cell_type": "code",
   "execution_count": 6,
   "metadata": {},
   "outputs": [
    {
     "data": {
      "text/html": [
       "<div>\n",
       "<style scoped>\n",
       "    .dataframe tbody tr th:only-of-type {\n",
       "        vertical-align: middle;\n",
       "    }\n",
       "\n",
       "    .dataframe tbody tr th {\n",
       "        vertical-align: top;\n",
       "    }\n",
       "\n",
       "    .dataframe thead th {\n",
       "        text-align: right;\n",
       "    }\n",
       "</style>\n",
       "<table border=\"1\" class=\"dataframe\">\n",
       "  <thead>\n",
       "    <tr style=\"text-align: right;\">\n",
       "      <th></th>\n",
       "      <th>survived</th>\n",
       "      <th>pclass</th>\n",
       "      <th>sex</th>\n",
       "      <th>age</th>\n",
       "      <th>sibsp</th>\n",
       "      <th>parch</th>\n",
       "      <th>fare</th>\n",
       "      <th>embarked</th>\n",
       "      <th>class</th>\n",
       "      <th>who</th>\n",
       "      <th>adult_male</th>\n",
       "      <th>embark_town</th>\n",
       "      <th>alive</th>\n",
       "      <th>alone</th>\n",
       "    </tr>\n",
       "  </thead>\n",
       "  <tbody>\n",
       "    <tr>\n",
       "      <th>89</th>\n",
       "      <td>0</td>\n",
       "      <td>3</td>\n",
       "      <td>male</td>\n",
       "      <td>24.000000</td>\n",
       "      <td>0</td>\n",
       "      <td>0</td>\n",
       "      <td>8.0500</td>\n",
       "      <td>S</td>\n",
       "      <td>Third</td>\n",
       "      <td>man</td>\n",
       "      <td>True</td>\n",
       "      <td>Southampton</td>\n",
       "      <td>no</td>\n",
       "      <td>True</td>\n",
       "    </tr>\n",
       "    <tr>\n",
       "      <th>873</th>\n",
       "      <td>0</td>\n",
       "      <td>3</td>\n",
       "      <td>male</td>\n",
       "      <td>47.000000</td>\n",
       "      <td>0</td>\n",
       "      <td>0</td>\n",
       "      <td>9.0000</td>\n",
       "      <td>S</td>\n",
       "      <td>Third</td>\n",
       "      <td>man</td>\n",
       "      <td>True</td>\n",
       "      <td>Southampton</td>\n",
       "      <td>no</td>\n",
       "      <td>True</td>\n",
       "    </tr>\n",
       "    <tr>\n",
       "      <th>304</th>\n",
       "      <td>0</td>\n",
       "      <td>3</td>\n",
       "      <td>male</td>\n",
       "      <td>29.699118</td>\n",
       "      <td>0</td>\n",
       "      <td>0</td>\n",
       "      <td>8.0500</td>\n",
       "      <td>S</td>\n",
       "      <td>Third</td>\n",
       "      <td>man</td>\n",
       "      <td>True</td>\n",
       "      <td>Southampton</td>\n",
       "      <td>no</td>\n",
       "      <td>True</td>\n",
       "    </tr>\n",
       "    <tr>\n",
       "      <th>727</th>\n",
       "      <td>1</td>\n",
       "      <td>3</td>\n",
       "      <td>female</td>\n",
       "      <td>29.699118</td>\n",
       "      <td>0</td>\n",
       "      <td>0</td>\n",
       "      <td>7.7375</td>\n",
       "      <td>Q</td>\n",
       "      <td>Third</td>\n",
       "      <td>woman</td>\n",
       "      <td>False</td>\n",
       "      <td>Queenstown</td>\n",
       "      <td>yes</td>\n",
       "      <td>True</td>\n",
       "    </tr>\n",
       "    <tr>\n",
       "      <th>466</th>\n",
       "      <td>0</td>\n",
       "      <td>2</td>\n",
       "      <td>male</td>\n",
       "      <td>29.699118</td>\n",
       "      <td>0</td>\n",
       "      <td>0</td>\n",
       "      <td>0.0000</td>\n",
       "      <td>S</td>\n",
       "      <td>Second</td>\n",
       "      <td>man</td>\n",
       "      <td>True</td>\n",
       "      <td>Southampton</td>\n",
       "      <td>no</td>\n",
       "      <td>True</td>\n",
       "    </tr>\n",
       "    <tr>\n",
       "      <th>610</th>\n",
       "      <td>0</td>\n",
       "      <td>3</td>\n",
       "      <td>female</td>\n",
       "      <td>39.000000</td>\n",
       "      <td>1</td>\n",
       "      <td>5</td>\n",
       "      <td>31.2750</td>\n",
       "      <td>S</td>\n",
       "      <td>Third</td>\n",
       "      <td>woman</td>\n",
       "      <td>False</td>\n",
       "      <td>Southampton</td>\n",
       "      <td>no</td>\n",
       "      <td>False</td>\n",
       "    </tr>\n",
       "    <tr>\n",
       "      <th>429</th>\n",
       "      <td>1</td>\n",
       "      <td>3</td>\n",
       "      <td>male</td>\n",
       "      <td>32.000000</td>\n",
       "      <td>0</td>\n",
       "      <td>0</td>\n",
       "      <td>8.0500</td>\n",
       "      <td>S</td>\n",
       "      <td>Third</td>\n",
       "      <td>man</td>\n",
       "      <td>True</td>\n",
       "      <td>Southampton</td>\n",
       "      <td>yes</td>\n",
       "      <td>True</td>\n",
       "    </tr>\n",
       "    <tr>\n",
       "      <th>604</th>\n",
       "      <td>1</td>\n",
       "      <td>1</td>\n",
       "      <td>male</td>\n",
       "      <td>35.000000</td>\n",
       "      <td>0</td>\n",
       "      <td>0</td>\n",
       "      <td>26.5500</td>\n",
       "      <td>C</td>\n",
       "      <td>First</td>\n",
       "      <td>man</td>\n",
       "      <td>True</td>\n",
       "      <td>Cherbourg</td>\n",
       "      <td>yes</td>\n",
       "      <td>True</td>\n",
       "    </tr>\n",
       "    <tr>\n",
       "      <th>647</th>\n",
       "      <td>1</td>\n",
       "      <td>1</td>\n",
       "      <td>male</td>\n",
       "      <td>56.000000</td>\n",
       "      <td>0</td>\n",
       "      <td>0</td>\n",
       "      <td>35.5000</td>\n",
       "      <td>C</td>\n",
       "      <td>First</td>\n",
       "      <td>man</td>\n",
       "      <td>True</td>\n",
       "      <td>Cherbourg</td>\n",
       "      <td>yes</td>\n",
       "      <td>True</td>\n",
       "    </tr>\n",
       "    <tr>\n",
       "      <th>847</th>\n",
       "      <td>0</td>\n",
       "      <td>3</td>\n",
       "      <td>male</td>\n",
       "      <td>35.000000</td>\n",
       "      <td>0</td>\n",
       "      <td>0</td>\n",
       "      <td>7.8958</td>\n",
       "      <td>C</td>\n",
       "      <td>Third</td>\n",
       "      <td>man</td>\n",
       "      <td>True</td>\n",
       "      <td>Cherbourg</td>\n",
       "      <td>no</td>\n",
       "      <td>True</td>\n",
       "    </tr>\n",
       "  </tbody>\n",
       "</table>\n",
       "</div>"
      ],
      "text/plain": [
       "     survived  pclass     sex        age  sibsp  parch     fare embarked   class    who  adult_male  embark_town alive  alone\n",
       "89          0       3    male  24.000000      0      0   8.0500        S   Third    man        True  Southampton    no   True\n",
       "873         0       3    male  47.000000      0      0   9.0000        S   Third    man        True  Southampton    no   True\n",
       "304         0       3    male  29.699118      0      0   8.0500        S   Third    man        True  Southampton    no   True\n",
       "727         1       3  female  29.699118      0      0   7.7375        Q   Third  woman       False   Queenstown   yes   True\n",
       "466         0       2    male  29.699118      0      0   0.0000        S  Second    man        True  Southampton    no   True\n",
       "610         0       3  female  39.000000      1      5  31.2750        S   Third  woman       False  Southampton    no  False\n",
       "429         1       3    male  32.000000      0      0   8.0500        S   Third    man        True  Southampton   yes   True\n",
       "604         1       1    male  35.000000      0      0  26.5500        C   First    man        True    Cherbourg   yes   True\n",
       "647         1       1    male  56.000000      0      0  35.5000        C   First    man        True    Cherbourg   yes   True\n",
       "847         0       3    male  35.000000      0      0   7.8958        C   Third    man        True    Cherbourg    no   True"
      ]
     },
     "execution_count": 6,
     "metadata": {},
     "output_type": "execute_result"
    }
   ],
   "source": [
    "# Resuelve aqui el ejercicio 2.3 --> df_dos <--\n",
    "\n",
    "copia_df_dos = df_dos.copy()\n",
    "\n",
    "# Eliminar columna \"deck\"\n",
    "\n",
    "copia_df_dos.drop([\"deck\"], axis=1, inplace=True)\n",
    "\n",
    "# Imputación de nulos con la media en la columna \"age\"\n",
    "\n",
    "copia_df_dos[\"age\"] = copia_df_dos[\"age\"].fillna(copia_df_dos[\"age\"].mean())\n",
    "\n",
    "# Comprobación del resultado seleccionando una muestra aleatoria de filas\n",
    "\n",
    "copia_df_dos.sample(10)"
   ]
  },
  {
   "cell_type": "markdown",
   "metadata": {},
   "source": [
    "#### Ejercicio 2.4\n",
    "Crea un gráfico de tipo histograma que represente la distribución de las edades de los pasajeros. Usa **matplotlib** o **seaborn** como herramientas de visualización"
   ]
  },
  {
   "cell_type": "code",
   "execution_count": 7,
   "metadata": {},
   "outputs": [
    {
     "data": {
      "image/png": "[encoded data removed]",
      "text/plain": [
       "<Figure size 432x288 with 1 Axes>"
      ]
     },
     "metadata": {},
     "output_type": "display_data"
    }
   ],
   "source": [
    "# Resuelve aqui el ejercicio 2.4. Resuelto con Seaborn\n",
    "\n",
    "plt.rcParams['font.family'] = 'DejaVu Sans Mono'\n",
    "mar_palette = [\"cyan\", \"lightseagreen\", \"cadetblue\", \"steelblue\", \"cyan\"]\n",
    "sns.set_palette(mar_palette)\n",
    "\n",
    "\n",
    "fig, ax = plt.subplots()\n",
    "fig.patch.set_facecolor('black')\n",
    "ax.set_facecolor('black')\n",
    "\n",
    "\n",
    "sns.histplot(data=copia_df_dos, x=\"age\", bins=30, kde=True, ax=ax)\n",
    "\n",
    "\n",
    "ax.set_xlabel(\"Edad\", fontsize=16, color='white')\n",
    "ax.set_ylabel(\"Frecuencia\", fontsize=16, color='white')\n",
    "\n",
    "\n",
    "ax.spines['top'].set_visible(False)\n",
    "ax.spines['right'].set_visible(False)\n",
    "ax.spines['left'].set_linewidth(2.5)\n",
    "ax.spines['bottom'].set_linewidth(2.5)\n",
    "ax.spines['left'].set_color('orange')\n",
    "ax.spines['bottom'].set_color('orange')\n",
    "\n",
    "\n",
    "ax.tick_params(axis='x', colors='cyan')\n",
    "ax.tick_params(axis='y', colors='cyan')\n",
    "\n",
    "\n",
    "ax.set_title('Distribución de edades de los pasajeros', fontsize=16, color='white', pad=20)\n",
    "\n",
    "\n",
    "plt.show()\n"
   ]
  },
  {
   "cell_type": "markdown",
   "metadata": {},
   "source": [
    "#### Ejercicio 2.5\n",
    "Crea un gráfico circular que represente la distribución por género de los pasajeros. Usa **matplotlib** o **seaborn** como herramientas de visualización"
   ]
  },
  {
   "cell_type": "code",
   "execution_count": 8,
   "metadata": {},
   "outputs": [
    {
     "data": {
      "image/png": "[encoded data removed]",
      "text/plain": [
       "<Figure size 432x288 with 1 Axes>"
      ]
     },
     "metadata": {},
     "output_type": "display_data"
    }
   ],
   "source": [
    "# Resuelve aqui el ejercicio 2.5. Resuelto con Matplotlib\n",
    "\n",
    "genero_counts = copia_df_dos[\"sex\"].value_counts()\n",
    "\n",
    "etiquetas = [\"Hombres\", \"Mujeres\"]\n",
    "\n",
    "colors = [\"steelblue\", \"orange\"]\n",
    "\n",
    "plt.rcParams['font.family'] = 'DejaVu Sans Mono'\n",
    "fig, ax = plt.subplots()\n",
    "fig.patch.set_facecolor('black')\n",
    "ax.set_facecolor('black')\n",
    "\n",
    "ax.pie(\n",
    "    genero_counts, \n",
    "    labels=etiquetas, \n",
    "    autopct='%1.1f%%', \n",
    "    startangle=90,\n",
    "    colors=colors,\n",
    "    textprops={'color': 'white', 'fontsize': 14},\n",
    "    wedgeprops={'edgecolor': 'white', 'linewidth': 2}\n",
    ")\n",
    "\n",
    "ax.set_title(\"Distribución por género de los pasajeros\", color='white', fontsize=16)\n",
    "\n",
    "plt.show()"
   ]
  },
  {
   "cell_type": "markdown",
   "metadata": {},
   "source": [
    "## Ejercicio 3"
   ]
  },
  {
   "cell_type": "markdown",
   "metadata": {},
   "source": [
    "#### Ejercicio 3.1\n",
    "Separa el dataset en dos variables, 'x' e 'y'.\n",
    " - La variable 'x' debe incluir las columnas 'depth', 'table', 'price', 'x', 'y' y 'z'.\n",
    " - La variable 'y' debe incluir la columna 'carat'."
   ]
  },
  {
   "cell_type": "code",
   "execution_count": 12,
   "metadata": {},
   "outputs": [
    {
     "name": "stdout",
     "output_type": "stream",
     "text": [
      "Comprobación de las columnas en la variable 'x':\n",
      "\n",
      "   depth  table  price     x     y     z\n",
      "0   61.5   55.0    326  3.95  3.98  2.43\n",
      "1   59.8   61.0    326  3.89  3.84  2.31\n",
      "2   56.9   65.0    327  4.05  4.07  2.31\n",
      "3   62.4   58.0    334  4.20  4.23  2.63\n",
      "4   63.3   58.0    335  4.34  4.35  2.75\n",
      "--------------------------------------------------\n",
      "\n",
      "Comprobación de las columnas en la variable 'y':\n",
      "\n",
      "0    0.23\n",
      "1    0.21\n",
      "2    0.23\n",
      "3    0.29\n",
      "4    0.31\n",
      "Name: carat, dtype: float64\n"
     ]
    }
   ],
   "source": [
    "# Carga el dataset \"diamonds\" de seaborn\n",
    "diamantes = sns.load_dataset(\"diamonds\")\n",
    "diamantes.head()\n",
    "\n",
    "# Resuelve aqui el ejercicio 3.1\n",
    "\n",
    "tres_x = diamantes[[\"depth\", \"table\", \"price\", \"x\", \"y\", \"z\"]]\n",
    "tres_y = diamantes[\"carat\"]\n",
    "\n",
    "print(\"Comprobación de las columnas en la variable 'x':\\n\")\n",
    "print(tres_x.head())\n",
    "print(\"--------------------------------------------------\\n\")\n",
    "print(\"Comprobación de las columnas en la variable 'y':\\n\")\n",
    "print(tres_y.head())"
   ]
  },
  {
   "cell_type": "markdown",
   "metadata": {},
   "source": [
    "#### Ejercicio 3.2\n",
    "Separa el dataset provisto en conjunto de entrenamiento y de test, dando un 40% de los datos al conjunto de test"
   ]
  },
  {
   "cell_type": "code",
   "execution_count": 13,
   "metadata": {},
   "outputs": [
    {
     "name": "stdout",
     "output_type": "stream",
     "text": [
      "Tamaño del conjunto de entrenamiento (x_train): 32364 filas\n",
      "Tamaño del conjunto de prueba (x_test): 21576 filas\n",
      "------------------------------------------------------------\n",
      "Tamaño del conjunto de entrenamiento (y_train): 32364 filas\n",
      "Tamaño del conjunto de prueba (y_test): 21576 filas\n"
     ]
    }
   ],
   "source": [
    "# Resuelve aqui el ejercicio 3.2\n",
    "\n",
    "tres_x_train, tres_x_test, tres_y_train, tres_y_test = train_test_split(tres_x, tres_y, test_size=0.4, random_state=42)\n",
    "\n",
    "# Comprobación del tamaño del conjunto de la variable \"x\"\n",
    "\n",
    "print(f\"Tamaño del conjunto de entrenamiento (x_train): {tres_x_train.shape[0]} filas\")\n",
    "print(f\"Tamaño del conjunto de prueba (x_test): {tres_x_test.shape[0]} filas\")\n",
    "print(\"------------------------------------------------------------\")\n",
    "\n",
    "# Comprobación del tamaño del conjunto de la variable \"y\"\n",
    "\n",
    "print(f\"Tamaño del conjunto de entrenamiento (y_train): {tres_y_train.shape[0]} filas\")\n",
    "print(f\"Tamaño del conjunto de prueba (y_test): {tres_y_test.shape[0]} filas\")"
   ]
  },
  {
   "cell_type": "markdown",
   "metadata": {},
   "source": [
    "#### Ejercicio 3.3\n",
    "Crea un modelo de regresión lineal y entrenalo con los conjuntos de datos separados en el ejercicio anterior. La variable objetivo corresponde a la columna 'carat'"
   ]
  },
  {
   "cell_type": "code",
   "execution_count": 30,
   "metadata": {},
   "outputs": [
    {
     "name": "stdout",
     "output_type": "stream",
     "text": [
      "Coeficientes del modelo:\n",
      "[1.83553628e-02 4.37885137e-03 3.24803939e-05 3.00417037e-01\n",
      " 8.60095293e-03 7.48562691e-04]\n",
      "------------------------------------------------------------\n",
      "Intersección (término independiente):\n",
      "-2.4886874780396724\n"
     ]
    }
   ],
   "source": [
    "# Resuelve aqui el ejercicio 3.3\n",
    "\n",
    "# Crear y entrenar el modelo con los datos de entrenamiento (variables predictoras y variable objetivo.)\n",
    "\n",
    "tres_lrm = LinearRegression()\n",
    "tres_lrm.fit(tres_x_train, tres_y_train)\n",
    "\n",
    "# Mostrar coeficientes y la intersección (cuánto influye cada variable en la predicción (coeficientes) y el valor base del modelo cuando todas las variables son cero (intersección))\n",
    "\n",
    "print(f\"Coeficientes del modelo:\\n{tres_lrm.coef_}\")\n",
    "print(\"------------------------------------------------------------\")\n",
    "print(f\"Intersección (término independiente):\\n{tres_lrm.intercept_}\")"
   ]
  },
  {
   "cell_type": "markdown",
   "metadata": {},
   "source": [
    "#### Ejercicio 3.4\n",
    "Utiliza el modelo entrenado en el apartado anterior para predecir los valores de la columna 'carat'"
   ]
  },
  {
   "cell_type": "code",
   "execution_count": 33,
   "metadata": {},
   "outputs": [
    {
     "name": "stdout",
     "output_type": "stream",
     "text": [
      "Primeras predicciones del valor 'carat':\n",
      "\n",
      "[0.14346117 0.61704432 0.40518998 0.44160874 1.4217783  0.94867185\n",
      " 0.53445283 0.54929319 0.66590887 1.12510883]\n"
     ]
    },
    {
     "data": {
      "image/png": "[encoded data removed]",
      "text/plain": [
       "<Figure size 576x288 with 1 Axes>"
      ]
     },
     "metadata": {},
     "output_type": "display_data"
    }
   ],
   "source": [
    "# Resuelve aqui el ejercicio 3.3\n",
    "\n",
    "predicciones_tres = tres_lrm.predict(tres_x_test)\n",
    "\n",
    "print(\"Primeras predicciones del valor 'carat':\\n\")\n",
    "print(predicciones_tres[:10])\n",
    "\n",
    "# Gráfico de dispersión de predicciones vs. valores reales para evaluar visualmente la precisión del modelo\n",
    "\n",
    "sns.set(style=\"darkgrid\")\n",
    "plt.rcParams['font.family'] = 'DejaVu Sans Mono'\n",
    "\n",
    "fig, ax = plt.subplots(figsize=(8, 4))\n",
    "fig.patch.set_facecolor('black')\n",
    "\n",
    "scatter = ax.scatter(\n",
    "    tres_y_test,\n",
    "    predicciones_tres,\n",
    "    c='cyan',\n",
    "    edgecolor='aqua',\n",
    "    alpha=0.7,\n",
    "    s=60\n",
    ")\n",
    "\n",
    "ax.plot([tres_y_test.min(), tres_y_test.max()], [tres_y_test.min(), tres_y_test.max()],\n",
    "        color='yellow', lw=2, linestyle='--', alpha=0.8)\n",
    "\n",
    "ax.set_xlabel(\"Valores reales de 'carat'\", fontsize=13, color='white', weight='bold')\n",
    "ax.set_ylabel(\"Predicciones de 'carat'\", fontsize=13, color='white', weight='bold')\n",
    "\n",
    "ax.set_facecolor('black')\n",
    "ax.spines['top'].set_visible(False)\n",
    "ax.spines['right'].set_visible(False)\n",
    "ax.spines['left'].set_linewidth(2.5)\n",
    "ax.spines['bottom'].set_linewidth(2.5)\n",
    "ax.spines['left'].set_color('lightseagreen')\n",
    "ax.spines['bottom'].set_color('lightseagreen')\n",
    "\n",
    "ax.tick_params(axis='x', colors='cyan', labelsize=12)\n",
    "ax.tick_params(axis='y', colors='cyan', labelsize=12)\n",
    "\n",
    "plt.title(\"Comparación entre valores reales y predichos de 'carat'\", fontsize=14, color='white', pad=35)\n",
    "\n",
    "plt.show()"
   ]
  },
  {
   "cell_type": "markdown",
   "metadata": {},
   "source": [
    "### Ejercicio 4"
   ]
  },
  {
   "cell_type": "markdown",
   "metadata": {},
   "source": [
    "#### Ejercicio 4.1\n",
    "Muestra un resumen estadístico de los datos numéricos del dataset provisto"
   ]
  },
  {
   "cell_type": "code",
   "execution_count": 34,
   "metadata": {},
   "outputs": [
    {
     "name": "stdout",
     "output_type": "stream",
     "text": [
      "El tipo de dato de las columnas de la variable 'x' son:\n",
      "mean radius                float64\n",
      "mean texture               float64\n",
      "mean perimeter             float64\n",
      "mean area                  float64\n",
      "mean smoothness            float64\n",
      "mean compactness           float64\n",
      "mean concavity             float64\n",
      "mean concave points        float64\n",
      "mean symmetry              float64\n",
      "mean fractal dimension     float64\n",
      "radius error               float64\n",
      "texture error              float64\n",
      "perimeter error            float64\n",
      "area error                 float64\n",
      "smoothness error           float64\n",
      "compactness error          float64\n",
      "concavity error            float64\n",
      "concave points error       float64\n",
      "symmetry error             float64\n",
      "fractal dimension error    float64\n",
      "worst radius               float64\n",
      "worst texture              float64\n",
      "worst perimeter            float64\n",
      "worst area                 float64\n",
      "worst smoothness           float64\n",
      "worst compactness          float64\n",
      "worst concavity            float64\n",
      "worst concave points       float64\n",
      "worst symmetry             float64\n",
      "worst fractal dimension    float64\n",
      "dtype: object\n",
      "--------------------------------------------------\n",
      "\n",
      "El tipo de dato de las columnas de la variable 'y' son:\n",
      "int64\n",
      "--------------------------------------------------\n",
      "\n",
      "Resumen estadístico de los datos numéricos del dataset (Transposición de columnas y filas):\n",
      "                         count        mean         std         min         25%         50%          75%         max\n",
      "mean radius              569.0   14.127292    3.524049    6.981000   11.700000   13.370000    15.780000    28.11000\n",
      "mean texture             569.0   19.289649    4.301036    9.710000   16.170000   18.840000    21.800000    39.28000\n",
      "mean perimeter           569.0   91.969033   24.298981   43.790000   75.170000   86.240000   104.100000   188.50000\n",
      "mean area                569.0  654.889104  351.914129  143.500000  420.300000  551.100000   782.700000  2501.00000\n",
      "mean smoothness          569.0    0.096360    0.014064    0.052630    0.086370    0.095870     0.105300     0.16340\n",
      "mean compactness         569.0    0.104341    0.052813    0.019380    0.064920    0.092630     0.130400     0.34540\n",
      "mean concavity           569.0    0.088799    0.079720    0.000000    0.029560    0.061540     0.130700     0.42680\n",
      "mean concave points      569.0    0.048919    0.038803    0.000000    0.020310    0.033500     0.074000     0.20120\n",
      "mean symmetry            569.0    0.181162    0.027414    0.106000    0.161900    0.179200     0.195700     0.30400\n",
      "mean fractal dimension   569.0    0.062798    0.007060    0.049960    0.057700    0.061540     0.066120     0.09744\n",
      "radius error             569.0    0.405172    0.277313    0.111500    0.232400    0.324200     0.478900     2.87300\n",
      "texture error            569.0    1.216853    0.551648    0.360200    0.833900    1.108000     1.474000     4.88500\n",
      "perimeter error          569.0    2.866059    2.021855    0.757000    1.606000    2.287000     3.357000    21.98000\n",
      "area error               569.0   40.337079   45.491006    6.802000   17.850000   24.530000    45.190000   542.20000\n",
      "smoothness error         569.0    0.007041    0.003003    0.001713    0.005169    0.006380     0.008146     0.03113\n",
      "compactness error        569.0    0.025478    0.017908    0.002252    0.013080    0.020450     0.032450     0.13540\n",
      "concavity error          569.0    0.031894    0.030186    0.000000    0.015090    0.025890     0.042050     0.39600\n",
      "concave points error     569.0    0.011796    0.006170    0.000000    0.007638    0.010930     0.014710     0.05279\n",
      "symmetry error           569.0    0.020542    0.008266    0.007882    0.015160    0.018730     0.023480     0.07895\n",
      "fractal dimension error  569.0    0.003795    0.002646    0.000895    0.002248    0.003187     0.004558     0.02984\n",
      "worst radius             569.0   16.269190    4.833242    7.930000   13.010000   14.970000    18.790000    36.04000\n",
      "worst texture            569.0   25.677223    6.146258   12.020000   21.080000   25.410000    29.720000    49.54000\n",
      "worst perimeter          569.0  107.261213   33.602542   50.410000   84.110000   97.660000   125.400000   251.20000\n",
      "worst area               569.0  880.583128  569.356993  185.200000  515.300000  686.500000  1084.000000  4254.00000\n",
      "worst smoothness         569.0    0.132369    0.022832    0.071170    0.116600    0.131300     0.146000     0.22260\n",
      "worst compactness        569.0    0.254265    0.157336    0.027290    0.147200    0.211900     0.339100     1.05800\n",
      "worst concavity          569.0    0.272188    0.208624    0.000000    0.114500    0.226700     0.382900     1.25200\n",
      "worst concave points     569.0    0.114606    0.065732    0.000000    0.064930    0.099930     0.161400     0.29100\n",
      "worst symmetry           569.0    0.290076    0.061867    0.156500    0.250400    0.282200     0.317900     0.66380\n",
      "worst fractal dimension  569.0    0.083946    0.018061    0.055040    0.071460    0.080040     0.092080     0.20750\n"
     ]
    }
   ],
   "source": [
    "data = load_breast_cancer()\n",
    "cuatro_x = pd.DataFrame(data.data, columns=data.feature_names)\n",
    "cuatro_y = pd.Series(data.target)\n",
    "\n",
    "# ALTERNATIVA CON OTRO DATASET \n",
    "# Cargar el dataset \"titanic\" de seaborn\n",
    "# df = sns.load_dataset(\"titanic\")\n",
    "\n",
    "# Resuelve aqui el ejercicio 4.1\n",
    "\n",
    "# Comprobación del tipo de dato de las columnas de las variables \"x\" e \"y\"\n",
    "print(f\"El tipo de dato de las columnas de la variable 'x' son:\\n{cuatro_x.dtypes}\")\n",
    "print(\"--------------------------------------------------\\n\")\n",
    "print(f\"El tipo de dato de las columnas de la variable 'y' son:\\n{cuatro_y.dtypes}\")\n",
    "print(\"--------------------------------------------------\\n\")\n",
    "\n",
    "# Resumen estadístico de los datos numéricos del dataset \n",
    "\n",
    "print(f\"Resumen estadístico de los datos numéricos del dataset (Transposición de columnas y filas):\\n{cuatro_x.describe().T}\")"
   ]
  },
  {
   "cell_type": "markdown",
   "metadata": {},
   "source": [
    "#### Ejercicio 4.2\n",
    "Separa el dataset provisto en conjunto de entrenamiento y de test, dando un 40% de los datos al conjunto de test"
   ]
  },
  {
   "cell_type": "code",
   "execution_count": 15,
   "metadata": {},
   "outputs": [
    {
     "name": "stdout",
     "output_type": "stream",
     "text": [
      "Tamaño del conjunto de entrenamiento (x_train): 341 filas\n",
      "Tamaño del conjunto de prueba (x_test): 228 filas\n",
      "------------------------------------------------------------\n",
      "Tamaño del conjunto de entrenamiento (y_train): 341 filas\n",
      "Tamaño del conjunto de prueba (y_test): 228 filas\n"
     ]
    }
   ],
   "source": [
    "# Resuelve aqui el ejercicio 4.2\n",
    "\n",
    "cuatro_x_train, cuatro_x_test, cuatro_y_train, cuatro_y_test = train_test_split(cuatro_x, cuatro_y, test_size=0.4, random_state=42)\n",
    "\n",
    "# Comprobación del tamaño del conjunto de la variable \"x\"\n",
    "\n",
    "print(f\"Tamaño del conjunto de entrenamiento (x_train): {cuatro_x_train.shape[0]} filas\")\n",
    "print(f\"Tamaño del conjunto de prueba (x_test): {cuatro_x_test.shape[0]} filas\")\n",
    "print(\"------------------------------------------------------------\")\n",
    "\n",
    "# Comprobación del tamaño del conjunto de la variable \"y\"\n",
    "\n",
    "print(f\"Tamaño del conjunto de entrenamiento (y_train): {cuatro_y_train.shape[0]} filas\")\n",
    "print(f\"Tamaño del conjunto de prueba (y_test): {cuatro_y_test.shape[0]} filas\")"
   ]
  },
  {
   "cell_type": "markdown",
   "metadata": {},
   "source": [
    "#### Ejercicio 4.3\n",
    "Crea un modelo de regresión logística y entrenalo con los conjuntos de datos separados en el ejercicio anterior. "
   ]
  },
  {
   "cell_type": "code",
   "execution_count": 44,
   "metadata": {},
   "outputs": [
    {
     "name": "stdout",
     "output_type": "stream",
     "text": [
      "Modelo de regresión logística entrenado correctamente.\n",
      "-----------------------------------------------------\n",
      "Precisión en entrenamiento: 0.9648\n",
      "Precisión en prueba:0.9693\n"
     ]
    }
   ],
   "source": [
    "# Resuelve aqui el ejercicio 4.3\n",
    "\n",
    "# Crear y entrenar el modelo con los datos de entrenamiento (variables predictoras y variable objetivo.)\n",
    "\n",
    "cuatro_lrm = LogisticRegression(max_iter=10000)\n",
    "cuatro_lrm.fit(cuatro_x_train, cuatro_y_train)\n",
    "\n",
    "# Mostrar resultados básicos de precisión sobre el conjunto de entrenamiento y prueba\n",
    "\n",
    "print(\"Modelo de regresión logística entrenado correctamente.\")\n",
    "print(\"-----------------------------------------------------\")\n",
    "print(f\"Precisión en entrenamiento: {cuatro_lrm.score(cuatro_x_train, cuatro_y_train):.4f}\")\n",
    "print(f\"Precisión en prueba:{cuatro_lrm.score(cuatro_x_test, cuatro_y_test):.4f}\")"
   ]
  },
  {
   "cell_type": "markdown",
   "metadata": {},
   "source": [
    "#### Ejercicio 4.4\n",
    "Utiliza el modelo entrenado en el apartado anterior para predecir los valores de la variable objetivo. "
   ]
  },
  {
   "cell_type": "code",
   "execution_count": 54,
   "metadata": {},
   "outputs": [
    {
     "name": "stdout",
     "output_type": "stream",
     "text": [
      "Primeras predicciones de la variable objetivo:\n",
      "\n",
      "[1 0 0 1 1 0 0 0 1 1 1 0 1 0 1 0 1 1 1 0]\n"
     ]
    },
    {
     "data": {
      "image/png": "[encoded data removed]",
      "text/plain": [
       "<Figure size 720x432 with 1 Axes>"
      ]
     },
     "metadata": {},
     "output_type": "display_data"
    }
   ],
   "source": [
    "# Resuelve aqui el ejercicio 4.4\n",
    "\n",
    "predicciones_cuatro = cuatro_lrm.predict(cuatro_x_test)\n",
    "\n",
    "print(\"Primeras predicciones de la variable objetivo:\\n\")\n",
    "print(predicciones_cuatro[:20])\n",
    "\n",
    "# Visualización de precisión del modelo: comparación entre predicciones y valores reales\n",
    "\n",
    "accuracy = accuracy_score(cuatro_y_test, predicciones_cuatro)\n",
    "precision = precision_score(cuatro_y_test, predicciones_cuatro)\n",
    "recall = recall_score(cuatro_y_test, predicciones_cuatro)\n",
    "f1 = f1_score(cuatro_y_test, predicciones_cuatro)\n",
    "\n",
    "metricas_df = pd.DataFrame({\n",
    "    \"Métrica\": ['Accuracy', 'Precision', 'Recall', 'F1-Score'],\n",
    "    \"Valor\": [accuracy, precision, recall, f1]\n",
    "})\n",
    "\n",
    "colores = ['turquoise', 'violet', 'cyan', 'pink']\n",
    "\n",
    "fig, ax = plt.subplots(figsize=(10, 6))\n",
    "fig.patch.set_facecolor('black')\n",
    "ax.set_facecolor('black')\n",
    "\n",
    "sns.barplot(x=\"Métrica\", y=\"Valor\", data=metricas_df, palette=colores, ax=ax)\n",
    "\n",
    "plt.ylim(0, 1.05)\n",
    "plt.xticks(rotation=45)\n",
    "\n",
    "for i, label in enumerate(ax.get_xticklabels()):\n",
    "    label.set_color(colores[i % len(colores)])  \n",
    "    label.set_fontsize(12)\n",
    "    label.set_weight('bold')\n",
    "\n",
    "for tick in ax.get_yticklabels():\n",
    "    tick.set_color('yellow')\n",
    "    tick.set_fontsize(12)\n",
    "\n",
    "ax.spines['top'].set_visible(False) \n",
    "ax.spines['right'].set_visible(False)\n",
    "ax.spines['left'].set_linewidth(2.5)\n",
    "ax.spines['bottom'].set_linewidth(2.5)\n",
    "ax.spines['left'].set_color('yellow')   \n",
    "ax.spines['bottom'].set_color('yellow') \n",
    "\n",
    "ax.grid(True, axis='y', linestyle='--', linewidth=1.5)\n",
    "for i, line in enumerate(ax.get_ygridlines()):\n",
    "    if i < len(colores): \n",
    "        line.set_color(colores[i % len(colores)])  \n",
    "        line.set_alpha(0.6)\n",
    "\n",
    "plt.ylabel('Valor de la métrica', fontsize=14, color='white', weight='bold')\n",
    "plt.title('Métricas del modelo de Regresión Logística', fontsize=16, color='white', weight='bold', pad=20)\n",
    "\n",
    "plt.show()"
   ]
  },
  {
   "cell_type": "markdown",
   "metadata": {},
   "source": [
    "### Ejercicio 5"
   ]
  },
  {
   "cell_type": "markdown",
   "metadata": {},
   "source": [
    "#### Ejercicio 5.1\n",
    "Muestra los primeros registros del siguiente conjunto de datos"
   ]
  },
  {
   "cell_type": "code",
   "execution_count": 58,
   "metadata": {},
   "outputs": [
    {
     "name": "stdout",
     "output_type": "stream",
     "text": [
      "Primeros registros del dataset:\n"
     ]
    },
    {
     "data": {
      "text/html": [
       "<div>\n",
       "<style scoped>\n",
       "    .dataframe tbody tr th:only-of-type {\n",
       "        vertical-align: middle;\n",
       "    }\n",
       "\n",
       "    .dataframe tbody tr th {\n",
       "        vertical-align: top;\n",
       "    }\n",
       "\n",
       "    .dataframe thead th {\n",
       "        text-align: right;\n",
       "    }\n",
       "</style>\n",
       "<table border=\"1\" class=\"dataframe\">\n",
       "  <thead>\n",
       "    <tr style=\"text-align: right;\">\n",
       "      <th></th>\n",
       "      <th>species</th>\n",
       "      <th>island</th>\n",
       "      <th>bill_length_mm</th>\n",
       "      <th>bill_depth_mm</th>\n",
       "      <th>flipper_length_mm</th>\n",
       "      <th>body_mass_g</th>\n",
       "      <th>sex</th>\n",
       "    </tr>\n",
       "  </thead>\n",
       "  <tbody>\n",
       "    <tr>\n",
       "      <th>0</th>\n",
       "      <td>Adelie</td>\n",
       "      <td>Torgersen</td>\n",
       "      <td>39.1</td>\n",
       "      <td>18.7</td>\n",
       "      <td>181.0</td>\n",
       "      <td>3750.0</td>\n",
       "      <td>Male</td>\n",
       "    </tr>\n",
       "    <tr>\n",
       "      <th>1</th>\n",
       "      <td>Adelie</td>\n",
       "      <td>Torgersen</td>\n",
       "      <td>39.5</td>\n",
       "      <td>17.4</td>\n",
       "      <td>186.0</td>\n",
       "      <td>3800.0</td>\n",
       "      <td>Female</td>\n",
       "    </tr>\n",
       "    <tr>\n",
       "      <th>2</th>\n",
       "      <td>Adelie</td>\n",
       "      <td>Torgersen</td>\n",
       "      <td>40.3</td>\n",
       "      <td>18.0</td>\n",
       "      <td>195.0</td>\n",
       "      <td>3250.0</td>\n",
       "      <td>Female</td>\n",
       "    </tr>\n",
       "    <tr>\n",
       "      <th>3</th>\n",
       "      <td>Adelie</td>\n",
       "      <td>Torgersen</td>\n",
       "      <td>NaN</td>\n",
       "      <td>NaN</td>\n",
       "      <td>NaN</td>\n",
       "      <td>NaN</td>\n",
       "      <td>NaN</td>\n",
       "    </tr>\n",
       "    <tr>\n",
       "      <th>4</th>\n",
       "      <td>Adelie</td>\n",
       "      <td>Torgersen</td>\n",
       "      <td>36.7</td>\n",
       "      <td>19.3</td>\n",
       "      <td>193.0</td>\n",
       "      <td>3450.0</td>\n",
       "      <td>Female</td>\n",
       "    </tr>\n",
       "    <tr>\n",
       "      <th>5</th>\n",
       "      <td>Adelie</td>\n",
       "      <td>Torgersen</td>\n",
       "      <td>39.3</td>\n",
       "      <td>20.6</td>\n",
       "      <td>190.0</td>\n",
       "      <td>3650.0</td>\n",
       "      <td>Male</td>\n",
       "    </tr>\n",
       "    <tr>\n",
       "      <th>6</th>\n",
       "      <td>Adelie</td>\n",
       "      <td>Torgersen</td>\n",
       "      <td>38.9</td>\n",
       "      <td>17.8</td>\n",
       "      <td>181.0</td>\n",
       "      <td>3625.0</td>\n",
       "      <td>Female</td>\n",
       "    </tr>\n",
       "    <tr>\n",
       "      <th>7</th>\n",
       "      <td>Adelie</td>\n",
       "      <td>Torgersen</td>\n",
       "      <td>39.2</td>\n",
       "      <td>19.6</td>\n",
       "      <td>195.0</td>\n",
       "      <td>4675.0</td>\n",
       "      <td>Male</td>\n",
       "    </tr>\n",
       "    <tr>\n",
       "      <th>8</th>\n",
       "      <td>Adelie</td>\n",
       "      <td>Torgersen</td>\n",
       "      <td>34.1</td>\n",
       "      <td>18.1</td>\n",
       "      <td>193.0</td>\n",
       "      <td>3475.0</td>\n",
       "      <td>NaN</td>\n",
       "    </tr>\n",
       "    <tr>\n",
       "      <th>9</th>\n",
       "      <td>Adelie</td>\n",
       "      <td>Torgersen</td>\n",
       "      <td>42.0</td>\n",
       "      <td>20.2</td>\n",
       "      <td>190.0</td>\n",
       "      <td>4250.0</td>\n",
       "      <td>NaN</td>\n",
       "    </tr>\n",
       "  </tbody>\n",
       "</table>\n",
       "</div>"
      ],
      "text/plain": [
       "  species     island  bill_length_mm  bill_depth_mm  flipper_length_mm  body_mass_g     sex\n",
       "0  Adelie  Torgersen            39.1           18.7              181.0       3750.0    Male\n",
       "1  Adelie  Torgersen            39.5           17.4              186.0       3800.0  Female\n",
       "2  Adelie  Torgersen            40.3           18.0              195.0       3250.0  Female\n",
       "3  Adelie  Torgersen             NaN            NaN                NaN          NaN     NaN\n",
       "4  Adelie  Torgersen            36.7           19.3              193.0       3450.0  Female\n",
       "5  Adelie  Torgersen            39.3           20.6              190.0       3650.0    Male\n",
       "6  Adelie  Torgersen            38.9           17.8              181.0       3625.0  Female\n",
       "7  Adelie  Torgersen            39.2           19.6              195.0       4675.0    Male\n",
       "8  Adelie  Torgersen            34.1           18.1              193.0       3475.0     NaN\n",
       "9  Adelie  Torgersen            42.0           20.2              190.0       4250.0     NaN"
      ]
     },
     "execution_count": 58,
     "metadata": {},
     "output_type": "execute_result"
    }
   ],
   "source": [
    "df_cinco = sns.load_dataset(\"penguins\")\n",
    "\n",
    "# Resuelve aqui el ejercicio 5.1\n",
    "\n",
    "print(\"Primeros registros del dataset:\")\n",
    "\n",
    "df_cinco.head(10)"
   ]
  },
  {
   "cell_type": "markdown",
   "metadata": {},
   "source": [
    "#### Ejercicio 5.2\n",
    "Separa el dataset provisto en conjunto de entrenamiento y de test, dando un 40% de los datos al conjunto de test. La variable objetivo corresponde a la columna \"species\""
   ]
  },
  {
   "cell_type": "code",
   "execution_count": 70,
   "metadata": {},
   "outputs": [
    {
     "name": "stdout",
     "output_type": "stream",
     "text": [
      "Tamaño del conjunto de entrenamiento (x_train): 199 filas\n",
      "Tamaño del conjunto de prueba (x_test): 134 filas\n",
      "------------------------------------------------------------\n",
      "Tamaño del conjunto de entrenamiento (y_train): 199 filas\n",
      "Tamaño del conjunto de prueba (y_test): 134 filas\n"
     ]
    }
   ],
   "source": [
    "# Resuelve aquí el ejericio 5.2\n",
    "\n",
    "# Eliminar valores nulos de los registros del DataFrame (para poder realizar RandomForest)\n",
    "\n",
    "df_cinco = sns.load_dataset(\"penguins\").dropna()\n",
    "\n",
    "# Separación del dataset en dos variables, \"x\" e \"y\". La variable objetivo (y) es \"species\"\n",
    "\n",
    "cinco_x = df_cinco.drop(\"species\", axis=1)\n",
    "cinco_y = df_cinco[\"species\"]\n",
    "\n",
    "# Tranformar columnas categóricas a numéricas (para poder realizar RandomForest)\n",
    "\n",
    "cinco_x_numericas = pd.get_dummies(cinco_x, drop_first=True)\n",
    "\n",
    "# Separación del dataset provisto en conjunto de entrenamiento y de test\n",
    "\n",
    "cinco_x_train, cinco_x_test, cinco_y_train, cinco_y_test = train_test_split(cinco_x_numericas, cinco_y, test_size=0.4, random_state=42)\n",
    "\n",
    "# Comprobación del tamaño del conjunto de la variable \"x\"\n",
    "\n",
    "print(f\"Tamaño del conjunto de entrenamiento (x_train): {cinco_x_train.shape[0]} filas\")\n",
    "print(f\"Tamaño del conjunto de prueba (x_test): {cinco_x_test.shape[0]} filas\")\n",
    "print(\"------------------------------------------------------------\")\n",
    "\n",
    "# Comprobación del tamaño del conjunto de la variable \"y\"\n",
    "\n",
    "print(f\"Tamaño del conjunto de entrenamiento (y_train): {cinco_y_train.shape[0]} filas\")\n",
    "print(f\"Tamaño del conjunto de prueba (y_test): {cinco_y_test.shape[0]} filas\")"
   ]
  },
  {
   "cell_type": "markdown",
   "metadata": {},
   "source": [
    "#### Ejercicio 5.3\n",
    "Elige un modelo de clasificación entre los siguientes: \n",
    " - Decision tree (Árbol de decisión)\n",
    " - Random forest\n",
    " - SVM (Support Vector Machine)\n",
    " \n",
    "Entrenalo con los conjuntos de datos separados en el ejercicio anterior. "
   ]
  },
  {
   "cell_type": "code",
   "execution_count": 71,
   "metadata": {},
   "outputs": [
    {
     "name": "stdout",
     "output_type": "stream",
     "text": [
      "Modelo Random Forest entrenado correctamente.\n",
      "-----------------------------------------------------\n",
      "Precisión en entrenamiento: 1.0000\n",
      "Precisión en prueba:0.9925\n"
     ]
    }
   ],
   "source": [
    "# Resuelve aquí el ejericio 5.3. Resuelto con RandomForest\n",
    "\n",
    "cinco_random_forest = RandomForestClassifier(random_state=42)\n",
    "cinco_random_forest.fit(cinco_x_train, cinco_y_train)\n",
    "\n",
    "# Mostrar resultados básicos de precisión sobre el conjunto de entrenamiento y prueba\n",
    "\n",
    "print(\"Modelo Random Forest entrenado correctamente.\")\n",
    "print(\"-----------------------------------------------------\")\n",
    "print(f\"Precisión en entrenamiento: {cinco_random_forest.score(cinco_x_train, cinco_y_train):.4f}\")\n",
    "print(f\"Precisión en prueba:{cinco_random_forest.score(cinco_x_test, cinco_y_test):.4f}\")"
   ]
  },
  {
   "cell_type": "markdown",
   "metadata": {},
   "source": [
    "#### Ejercicio 5.4\n",
    "Utiliza el modelo entrenado en el apartado anterior para predecir los valores de la variable objetivo. "
   ]
  },
  {
   "cell_type": "code",
   "execution_count": 91,
   "metadata": {},
   "outputs": [
    {
     "name": "stdout",
     "output_type": "stream",
     "text": [
      "Primeras predicciones de 'species':\n",
      "['Adelie' 'Adelie' 'Gentoo' 'Adelie' 'Gentoo' 'Adelie' 'Adelie' 'Gentoo'\n",
      " 'Adelie' 'Gentoo' 'Chinstrap' 'Gentoo' 'Chinstrap' 'Gentoo' 'Gentoo']\n"
     ]
    },
    {
     "data": {
      "image/png": "[encoded data removed]",
      "text/plain": [
       "<Figure size 720x432 with 1 Axes>"
      ]
     },
     "metadata": {},
     "output_type": "display_data"
    }
   ],
   "source": [
    "# Resuelve aquí el ejericio 5.4\n",
    "\n",
    "predicciones_cinco = cinco_random_forest.predict(cinco_x_train)\n",
    "print(\"Primeras predicciones de 'species':\")\n",
    "print(predicciones_cinco[:15])\n",
    "\n",
    "# Gráfico de la distribución de especies predichas por el modelo Random Forest\n",
    "\n",
    "resultados_cinco = pd.DataFrame({\n",
    "    \"Predicción\": predicciones_cinco,\n",
    "    \"Real\":       cinco_y_train.values\n",
    "})\n",
    "\n",
    "colores = ['steelblue', 'violet', 'pink', 'cyan', 'deepskyblue', 'steelblue', 'lightblue']\n",
    "\n",
    "fig, ax = plt.subplots(figsize=(10, 6))\n",
    "fig.patch.set_facecolor('black')\n",
    "ax.set_facecolor('black')\n",
    "\n",
    "sns.countplot(\n",
    "    x=\"Predicción\",\n",
    "    data=resultados_cinco,\n",
    "    palette=colores,\n",
    "    ax=ax\n",
    ")\n",
    "\n",
    "plt.xticks(rotation=90)\n",
    "\n",
    "for i, label in enumerate(ax.get_xticklabels()):\n",
    "    label.set_color(colores[i % len(colores)])  \n",
    "    label.set_fontsize(12)\n",
    "    label.set_weight('bold')\n",
    "\n",
    "for tick in ax.get_yticklabels():\n",
    "    tick.set_color('yellow')\n",
    "    tick.set_fontsize(12)\n",
    "\n",
    "ax.spines['top'].set_visible(False) \n",
    "ax.spines['right'].set_visible(False)\n",
    "ax.spines['left'].set_linewidth(2.5)\n",
    "ax.spines['bottom'].set_linewidth(2.5)\n",
    "ax.spines['left'].set_color('yellow')   \n",
    "ax.spines['bottom'].set_color('yellow') \n",
    "\n",
    "ax.grid(True, axis='y', linestyle='--', linewidth=1.5)\n",
    "gridlines = ax.get_ygridlines()\n",
    "for i, line in enumerate(gridlines):\n",
    "    if i < len(colores): \n",
    "        line.set_color(colores[i % len(colores)])  \n",
    "        line.set_alpha(0.6)\n",
    "\n",
    "plt.ylabel('Cantidad de predicciones', fontsize=14, color='white', weight='bold')\n",
    "plt.title('Distribución de especies predichas', \n",
    "          fontsize=16, color='white', weight='bold', pad=20)\n",
    "\n",
    "plt.show()"
   ]
  },
  {
   "cell_type": "markdown",
   "metadata": {},
   "source": [
    "### Ejercicio 6"
   ]
  },
  {
   "cell_type": "markdown",
   "metadata": {},
   "source": [
    "#### Ejercicio 6.1\n",
    "Muestra un resumen estadístico de los datos numéricos del dataset provisto"
   ]
  },
  {
   "cell_type": "code",
   "execution_count": 18,
   "metadata": {},
   "outputs": [
    {
     "name": "stdout",
     "output_type": "stream",
     "text": [
      "Resumen estadístico de los datos numéricos del dataset (Transposición de columnas y filas):\n"
     ]
    },
    {
     "data": {
      "text/html": [
       "<div>\n",
       "<style scoped>\n",
       "    .dataframe tbody tr th:only-of-type {\n",
       "        vertical-align: middle;\n",
       "    }\n",
       "\n",
       "    .dataframe tbody tr th {\n",
       "        vertical-align: top;\n",
       "    }\n",
       "\n",
       "    .dataframe thead th {\n",
       "        text-align: right;\n",
       "    }\n",
       "</style>\n",
       "<table border=\"1\" class=\"dataframe\">\n",
       "  <thead>\n",
       "    <tr style=\"text-align: right;\">\n",
       "      <th></th>\n",
       "      <th>count</th>\n",
       "      <th>mean</th>\n",
       "      <th>std</th>\n",
       "      <th>min</th>\n",
       "      <th>25%</th>\n",
       "      <th>50%</th>\n",
       "      <th>75%</th>\n",
       "      <th>max</th>\n",
       "    </tr>\n",
       "  </thead>\n",
       "  <tbody>\n",
       "    <tr>\n",
       "      <th>Length</th>\n",
       "      <td>4177.0</td>\n",
       "      <td>0.523992</td>\n",
       "      <td>0.120093</td>\n",
       "      <td>0.0750</td>\n",
       "      <td>0.4500</td>\n",
       "      <td>0.5450</td>\n",
       "      <td>0.615</td>\n",
       "      <td>0.8150</td>\n",
       "    </tr>\n",
       "    <tr>\n",
       "      <th>Diameter</th>\n",
       "      <td>4177.0</td>\n",
       "      <td>0.407881</td>\n",
       "      <td>0.099240</td>\n",
       "      <td>0.0550</td>\n",
       "      <td>0.3500</td>\n",
       "      <td>0.4250</td>\n",
       "      <td>0.480</td>\n",
       "      <td>0.6500</td>\n",
       "    </tr>\n",
       "    <tr>\n",
       "      <th>Height</th>\n",
       "      <td>4177.0</td>\n",
       "      <td>0.139516</td>\n",
       "      <td>0.041827</td>\n",
       "      <td>0.0000</td>\n",
       "      <td>0.1150</td>\n",
       "      <td>0.1400</td>\n",
       "      <td>0.165</td>\n",
       "      <td>1.1300</td>\n",
       "    </tr>\n",
       "    <tr>\n",
       "      <th>Whole weight</th>\n",
       "      <td>4177.0</td>\n",
       "      <td>0.828742</td>\n",
       "      <td>0.490389</td>\n",
       "      <td>0.0020</td>\n",
       "      <td>0.4415</td>\n",
       "      <td>0.7995</td>\n",
       "      <td>1.153</td>\n",
       "      <td>2.8255</td>\n",
       "    </tr>\n",
       "    <tr>\n",
       "      <th>Shucked weight</th>\n",
       "      <td>4177.0</td>\n",
       "      <td>0.359367</td>\n",
       "      <td>0.221963</td>\n",
       "      <td>0.0010</td>\n",
       "      <td>0.1860</td>\n",
       "      <td>0.3360</td>\n",
       "      <td>0.502</td>\n",
       "      <td>1.4880</td>\n",
       "    </tr>\n",
       "    <tr>\n",
       "      <th>Viscera weight</th>\n",
       "      <td>4177.0</td>\n",
       "      <td>0.180594</td>\n",
       "      <td>0.109614</td>\n",
       "      <td>0.0005</td>\n",
       "      <td>0.0935</td>\n",
       "      <td>0.1710</td>\n",
       "      <td>0.253</td>\n",
       "      <td>0.7600</td>\n",
       "    </tr>\n",
       "    <tr>\n",
       "      <th>Shell weight</th>\n",
       "      <td>4177.0</td>\n",
       "      <td>0.238831</td>\n",
       "      <td>0.139203</td>\n",
       "      <td>0.0015</td>\n",
       "      <td>0.1300</td>\n",
       "      <td>0.2340</td>\n",
       "      <td>0.329</td>\n",
       "      <td>1.0050</td>\n",
       "    </tr>\n",
       "    <tr>\n",
       "      <th>Rings</th>\n",
       "      <td>4177.0</td>\n",
       "      <td>9.933684</td>\n",
       "      <td>3.224169</td>\n",
       "      <td>1.0000</td>\n",
       "      <td>8.0000</td>\n",
       "      <td>9.0000</td>\n",
       "      <td>11.000</td>\n",
       "      <td>29.0000</td>\n",
       "    </tr>\n",
       "  </tbody>\n",
       "</table>\n",
       "</div>"
      ],
      "text/plain": [
       "                 count      mean       std     min     25%     50%     75%      max\n",
       "Length          4177.0  0.523992  0.120093  0.0750  0.4500  0.5450   0.615   0.8150\n",
       "Diameter        4177.0  0.407881  0.099240  0.0550  0.3500  0.4250   0.480   0.6500\n",
       "Height          4177.0  0.139516  0.041827  0.0000  0.1150  0.1400   0.165   1.1300\n",
       "Whole weight    4177.0  0.828742  0.490389  0.0020  0.4415  0.7995   1.153   2.8255\n",
       "Shucked weight  4177.0  0.359367  0.221963  0.0010  0.1860  0.3360   0.502   1.4880\n",
       "Viscera weight  4177.0  0.180594  0.109614  0.0005  0.0935  0.1710   0.253   0.7600\n",
       "Shell weight    4177.0  0.238831  0.139203  0.0015  0.1300  0.2340   0.329   1.0050\n",
       "Rings           4177.0  9.933684  3.224169  1.0000  8.0000  9.0000  11.000  29.0000"
      ]
     },
     "execution_count": 18,
     "metadata": {},
     "output_type": "execute_result"
    }
   ],
   "source": [
    "\n",
    "url = (\"https://archive.ics.uci.edu/ml/machine-learning-databases/abalone/abalone.data\")\n",
    "df_seis = pd.read_csv(url, header=None)\n",
    "df_seis.columns = [\n",
    "   \"Sex\",\n",
    "    \"Length\",\n",
    "    \"Diameter\",\n",
    "    \"Height\",\n",
    "    \"Whole weight\",\n",
    "    \"Shucked weight\",\n",
    "    \"Viscera weight\",\n",
    "    \"Shell weight\",\n",
    "    \"Rings\",\n",
    "]\n",
    "# df = df.drop(\"Sex\", axis=1)\n",
    "\n",
    "# Resuelve aqui el ejercicio 6.1\n",
    "\n",
    "print(\"Resumen estadístico de los datos numéricos del dataset (Transposición de columnas y filas):\")\n",
    "\n",
    "df_seis.describe().T"
   ]
  },
  {
   "cell_type": "markdown",
   "metadata": {},
   "source": [
    "#### Ejercicio 6.2\n",
    "Separa el conjunto de datos en variables 'x' e 'y', donde la 'y' corresponde a la variable objetivo 'Sex'."
   ]
  },
  {
   "cell_type": "code",
   "execution_count": 19,
   "metadata": {},
   "outputs": [
    {
     "name": "stdout",
     "output_type": "stream",
     "text": [
      "Columnas de la variable 'x':\n",
      "   Length  Diameter  Height  Whole weight  Shucked weight  Viscera weight  Shell weight  Rings\n",
      "0   0.455     0.365   0.095        0.5140          0.2245          0.1010         0.150     15\n",
      "1   0.350     0.265   0.090        0.2255          0.0995          0.0485         0.070      7\n",
      "2   0.530     0.420   0.135        0.6770          0.2565          0.1415         0.210      9\n",
      "3   0.440     0.365   0.125        0.5160          0.2155          0.1140         0.155     10\n",
      "4   0.330     0.255   0.080        0.2050          0.0895          0.0395         0.055      7\n",
      "------------------------------------------------------------------------------------------------\n",
      "\n",
      "Columnas de la variable 'y':\n",
      "0    M\n",
      "1    M\n",
      "2    F\n",
      "3    M\n",
      "4    I\n",
      "Name: Sex, dtype: object\n"
     ]
    }
   ],
   "source": [
    "# Resuelve aqui el ejercicio 6.2\n",
    "\n",
    "seis_x = df_seis.drop(\"Sex\", axis=1)\n",
    "seis_y = df_seis[\"Sex\"]\n",
    "\n",
    "# Comprobación de la variable objetivo \"Sex\"\n",
    "\n",
    "print(f\"Columnas de la variable 'x':\\n{seis_x.head()}\")\n",
    "print(\"------------------------------------------------------------------------------------------------\\n\")\n",
    "print(f\"Columnas de la variable 'y':\\n{seis_y.head()}\")"
   ]
  },
  {
   "cell_type": "markdown",
   "metadata": {},
   "source": [
    "#### Ejercicio 6.3\n",
    "Separa el dataset provisto en conjunto de entrenamiento y de test, dando un 40% de los datos al conjunto de test. "
   ]
  },
  {
   "cell_type": "code",
   "execution_count": 20,
   "metadata": {},
   "outputs": [
    {
     "name": "stdout",
     "output_type": "stream",
     "text": [
      "Tamaño del conjunto de entrenamiento (x_train): 2506 filas\n",
      "Tamaño del conjunto de prueba (x_test): 1671 filas\n",
      "------------------------------------------------------------\n",
      "Tamaño del conjunto de entrenamiento (y_train): 2506 filas\n",
      "Tamaño del conjunto de prueba (y_test): 1671 filas\n"
     ]
    }
   ],
   "source": [
    "# Resuelve aquí el ejercicio 6.3\n",
    "\n",
    "# Separación del dataset provisto en conjunto de entrenamiento y de test\n",
    "\n",
    "seis_x_train, seis_x_test, seis_y_train, seis_y_test = train_test_split(seis_x, seis_y, test_size=0.4, random_state=42)\n",
    "\n",
    "# Comprobación del tamaño del conjunto de la variable \"x\"\n",
    "\n",
    "print(f\"Tamaño del conjunto de entrenamiento (x_train): {seis_x_train.shape[0]} filas\")\n",
    "print(f\"Tamaño del conjunto de prueba (x_test): {seis_x_test.shape[0]} filas\")\n",
    "print(\"------------------------------------------------------------\")\n",
    "\n",
    "# Comprobación del tamaño del conjunto de la variable \"y\"\n",
    "\n",
    "print(f\"Tamaño del conjunto de entrenamiento (y_train): {seis_y_train.shape[0]} filas\")\n",
    "print(f\"Tamaño del conjunto de prueba (y_test): {seis_y_test.shape[0]} filas\")"
   ]
  },
  {
   "cell_type": "markdown",
   "metadata": {},
   "source": [
    "#### Ejercicio 6.4\n",
    "Crea un modelo de regresión logística y entrenalo con los conjuntos de datos separados en el ejercicio anterior."
   ]
  },
  {
   "cell_type": "code",
   "execution_count": 93,
   "metadata": {},
   "outputs": [
    {
     "name": "stdout",
     "output_type": "stream",
     "text": [
      "Modelo de regresión logística entrenado correctamente.\n",
      "-----------------------------------------------------\n",
      "Precisión en entrenamiento: 0.5587\n",
      "Precisión en prueba: 0.5625\n"
     ]
    }
   ],
   "source": [
    "# Resuelve aquí el ejercicio 6.4 (La parte del enunciado \"Utiliza el valor 3 para el parámetro 'n_neighbors'\", es un error)\n",
    "\n",
    "# Crear y entrenar el modelo con los datos de entrenamiento\n",
    "\n",
    "seis_lrm = LogisticRegression(max_iter=1000)\n",
    "seis_lrm.fit(seis_x_train, seis_y_train)\n",
    "\n",
    "# 3) Mostrar resultados básicos de precisión sobre entrenamiento y prueba\n",
    "\n",
    "print(\"Modelo de regresión logística entrenado correctamente.\")\n",
    "print(\"-----------------------------------------------------\")\n",
    "print(f\"Precisión en entrenamiento: {seis_lrm.score(seis_x_train, seis_y_train):.4f}\")\n",
    "print(f\"Precisión en prueba: {seis_lrm.score(seis_x_test, seis_y_test):.4f}\")"
   ]
  },
  {
   "cell_type": "markdown",
   "metadata": {},
   "source": [
    "#### Ejercicio 6.5\n",
    "Muestra la matriz de confusión resultante para la salida del ejercicio anterior"
   ]
  },
  {
   "cell_type": "code",
   "execution_count": 130,
   "metadata": {},
   "outputs": [
    {
     "data": {
      "image/png": "[encoded data removed]",
      "text/plain": [
       "<Figure size 432x360 with 1 Axes>"
      ]
     },
     "metadata": {},
     "output_type": "display_data"
    }
   ],
   "source": [
    "# Resuelve aquí el ejercicio 6.5\n",
    "\n",
    "predicciones_seis = seis_lrm.predict(seis_x_test)\n",
    "\n",
    "# Matriz de Confusión. Regresión Logística (valores reales vs. predicción de la variable objetivo 'Sex')\n",
    "\n",
    "matriz_seis = confusion_matrix(seis_y_test, predicciones_seis, labels=seis_lrm.classes_)\n",
    "\n",
    "cm_df = pd.DataFrame(\n",
    "    matriz_seis,\n",
    "    index=seis_lrm.classes_,\n",
    "    columns=seis_lrm.classes_\n",
    ")\n",
    "\n",
    "plt.rcParams['font.family'] = 'DejaVu Sans Mono'\n",
    "mar_palette = [\"pink\", \"lightseagreen\", \"orange\", \"steelblue\", \"cyan\"]\n",
    "sns.set_palette(mar_palette)\n",
    "\n",
    "fig, ax = plt.subplots(figsize=(6, 5))\n",
    "fig.patch.set_facecolor('black')\n",
    "ax.set_facecolor('black')\n",
    "\n",
    "sns.heatmap(\n",
    "    cm_df,\n",
    "    annot=True,\n",
    "    fmt='d',\n",
    "    cmap= mar_palette,\n",
    "    cbar=False,\n",
    "    linewidths=0.5,\n",
    "    linecolor='white',\n",
    "    ax=ax,\n",
    "    annot_kws={'color': 'black', 'fontsize': 12}\n",
    ")\n",
    "\n",
    "ax.set_xlabel(\"Predicción\", fontsize=16, color='white')\n",
    "ax.set_ylabel(\"Valor real\", fontsize=16, color='white')\n",
    "\n",
    "ax.spines['top'].set_visible(False)\n",
    "ax.spines['right'].set_visible(False)\n",
    "ax.spines['left'].set_linewidth(2.5)\n",
    "ax.spines['bottom'].set_linewidth(2.5)\n",
    "ax.spines['left'].set_color('yellow')\n",
    "ax.spines['bottom'].set_color('yellow')\n",
    "\n",
    "ax.tick_params(axis='x', colors='yellow')\n",
    "ax.tick_params(axis='y', colors='yellow')\n",
    "\n",
    "ax.set_title(\"Rendimiento de la variable objetivo 'Sex'\", \n",
    "             fontsize=16, color='white', pad=20)\n",
    "\n",
    "plt.show()"
   ]
  }
 ],
 "metadata": {
  "kernelspec": {
   "display_name": "base",
   "language": "python",
   "name": "python3"
  },
  "language_info": {
   "codemirror_mode": {
    "name": "ipython",
    "version": 3
   },
   "file_extension": ".py",
   "mimetype": "text/x-python",
   "name": "python",
   "nbconvert_exporter": "python",
   "pygments_lexer": "ipython3",
   "version": "3.9.12"
  }
 },
 "nbformat": 4,
 "nbformat_minor": 2
}
